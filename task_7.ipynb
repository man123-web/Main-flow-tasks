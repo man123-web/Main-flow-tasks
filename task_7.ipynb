{
  "nbformat": 4,
  "nbformat_minor": 0,
  "metadata": {
    "colab": {
      "provenance": [],
      "authorship_tag": "ABX9TyMFYIMd9kFKbvRB3o06L4rJ",
      "include_colab_link": true
    },
    "kernelspec": {
      "name": "python3",
      "display_name": "Python 3"
    },
    "language_info": {
      "name": "python"
    }
  },
  "cells": [
    {
      "cell_type": "markdown",
      "metadata": {
        "id": "view-in-github",
        "colab_type": "text"
      },
      "source": [
        "<a href=\"https://colab.research.google.com/github/man123-web/Main-flow-tasks/blob/main/task_7.ipynb\" target=\"_parent\"><img src=\"https://colab.research.google.com/assets/colab-badge.svg\" alt=\"Open In Colab\"/></a>"
      ]
    },
    {
      "cell_type": "code",
      "execution_count": 1,
      "metadata": {
        "colab": {
          "base_uri": "https://localhost:8080/"
        },
        "id": "GHl5rA0Ui2fj",
        "outputId": "723841fd-3b46-4179-ecd5-1b559a9697c4"
      },
      "outputs": [
        {
          "output_type": "stream",
          "name": "stdout",
          "text": [
            "True\n"
          ]
        }
      ],
      "source": [
        "def is_valid_sudoku(board):\n",
        "    def is_valid_block(block):\n",
        "        nums = [num for num in block if num != '.']\n",
        "        return len(nums) == len(set(nums))\n",
        "\n",
        "    # Check rows and columns\n",
        "    for i in range(9):\n",
        "        if not is_valid_block(board[i]):  # Check row\n",
        "            return False\n",
        "        if not is_valid_block([board[j][i] for j in range(9)]):  # Check column\n",
        "            return False\n",
        "\n",
        "    # Check 3x3 subgrids\n",
        "    for i in range(3):\n",
        "        for j in range(3):\n",
        "            block = [board[x][y] for x in range(i * 3, (i + 1) * 3) for y in range(j * 3, (j + 1) * 3)]\n",
        "            if not is_valid_block(block):\n",
        "                return False\n",
        "\n",
        "    return True\n",
        "\n",
        "# Example usage\n",
        "sudoku_board = [\n",
        "    [\"5\", \"3\", \".\", \".\", \"7\", \".\", \".\", \".\", \".\"],\n",
        "    [\"6\", \".\", \".\", \"1\", \"9\", \"5\", \".\", \".\", \".\"],\n",
        "    [\".\", \"9\", \"8\", \".\", \".\", \".\", \".\", \"6\", \".\"],\n",
        "    [\"8\", \".\", \".\", \".\", \"6\", \".\", \".\", \".\", \"3\"],\n",
        "    [\"4\", \".\", \".\", \"8\", \".\", \"3\", \".\", \".\", \"1\"],\n",
        "    [\"7\", \".\", \".\", \".\", \"2\", \".\", \".\", \".\", \"6\"],\n",
        "    [\".\", \"6\", \".\", \".\", \".\", \".\", \"2\", \"8\", \".\"],\n",
        "    [\".\", \".\", \".\", \"4\", \"1\", \"9\", \".\", \".\", \"5\"],\n",
        "    [\".\", \".\", \".\", \".\", \"8\", \".\", \".\", \"7\", \"9\"]\n",
        "]\n",
        "\n",
        "print(is_valid_sudoku(sudoku_board))  # Output: True"
      ]
    },
    {
      "cell_type": "code",
      "source": [
        "def word_frequency(text):\n",
        "    words = text.split()\n",
        "    frequency = {}\n",
        "\n",
        "    for word in words:\n",
        "        word = word.lower()  # Convert to lowercase for case-insensitivity\n",
        "        frequency[word] = frequency.get(word, 0) + 1\n",
        "\n",
        "    return frequency\n",
        "\n",
        "# Example usage\n",
        "input_text = \"Hello world hello\"\n",
        "print(word_frequency(input_text))  # Output: {'hello': 2, 'world': 1}"
      ],
      "metadata": {
        "colab": {
          "base_uri": "https://localhost:8080/"
        },
        "id": "Qeu4t4DQk2rT",
        "outputId": "286dbd31-6095-4e60-b4f9-c8b804980eb1"
      },
      "execution_count": 2,
      "outputs": [
        {
          "output_type": "stream",
          "name": "stdout",
          "text": [
            "{'hello': 2, 'world': 1}\n"
          ]
        }
      ]
    },
    {
      "cell_type": "code",
      "source": [
        "def knapsack(weights, values, capacity):\n",
        "    n = len(values)\n",
        "    dp = [[0 for _ in range(capacity + 1)] for _ in range(n + 1)]\n",
        "\n",
        "    for i in range(1, n + 1):\n",
        "        for w in range(capacity + 1):\n",
        "            if weights[i - 1] <= w:\n",
        "                dp[i][w] = max(dp[i - 1][w], dp[i - 1][w - weights[i - 1]] + values[i - 1])\n",
        "            else:\n",
        "                dp[i][w] = dp[i - 1][w]\n",
        "\n",
        "    return dp[n][capacity]\n",
        "\n",
        "# Example usage\n",
        "weights = [1, 2, 3]\n",
        "values = [10, 15, 40]\n",
        "capacity = 6\n",
        "print(knapsack(weights, values, capacity))  # Output: 55\n"
      ],
      "metadata": {
        "colab": {
          "base_uri": "https://localhost:8080/"
        },
        "id": "mnLXXuWjk-cb",
        "outputId": "926b5720-1e1d-45a6-b56c-51ebd139b974"
      },
      "execution_count": 3,
      "outputs": [
        {
          "output_type": "stream",
          "name": "stdout",
          "text": [
            "65\n"
          ]
        }
      ]
    },
    {
      "cell_type": "code",
      "source": [
        "def merge_intervals(intervals):\n",
        "    if not intervals:\n",
        "        return []\n",
        "\n",
        "    # Sort intervals by start time\n",
        "    intervals.sort(key=lambda x: x[0])\n",
        "    merged = [intervals[0]]\n",
        "\n",
        "    for current in intervals[1:]:\n",
        "        last_merged = merged[-1]\n",
        "        if current[0] <= last_merged[1]:  # Overlapping intervals\n",
        "            last_merged[1] = max(last_merged[1], current[1])\n",
        "        else:\n",
        "            merged.append(current)\n",
        "\n",
        "    return merged\n",
        "\n",
        "# Example usage\n",
        "input_intervals = [[1, 3], [2, 6], [8, 10], [15, 18]]\n",
        "print(merge_intervals(input_intervals))  # Output: [[1, 6], [8,"
      ],
      "metadata": {
        "colab": {
          "base_uri": "https://localhost:8080/"
        },
        "id": "TMUoLRBElApb",
        "outputId": "8c92e76a-35c5-476c-8f48-51dfef01c1f5"
      },
      "execution_count": 4,
      "outputs": [
        {
          "output_type": "stream",
          "name": "stdout",
          "text": [
            "[[1, 6], [8, 10], [15, 18]]\n"
          ]
        }
      ]
    },
    {
      "cell_type": "code",
      "source": [
        "def maximalRectangle(matrix):\n",
        "    if not matrix:\n",
        "        return 0\n",
        "\n",
        "    max_area = 0\n",
        "    heights = [0] * len(matrix[0])\n",
        "\n",
        "    for row in matrix:\n",
        "        for i in range(len(row)):\n",
        "            heights[i] = heights[i] + 1 if row[i] == '1' else 0\n",
        "\n",
        "        max_area = max(max_area, largestRectangleArea(heights))\n",
        "\n",
        "    return max_area\n",
        "\n",
        "def largestRectangleArea(heights):\n",
        "    stack = []\n",
        "    max_area = 0\n",
        "    heights.append(0)  # Append a zero to pop all remaining bars\n",
        "\n",
        "    for i in range(len(heights)):\n",
        "        while stack and heights[stack[-1]] > heights[i]:\n",
        "            h = heights[stack.pop()]\n",
        "            w = i if not stack else i - stack[-1] - 1\n",
        "            max_area = max(max_area, h * w)\n",
        "        stack.append(i)\n",
        "\n",
        "    return max_area"
      ],
      "metadata": {
        "id": "CjSOEwR1lyT2"
      },
      "execution_count": 5,
      "outputs": []
    },
    {
      "cell_type": "code",
      "source": [
        "def maxSubArray(nums):\n",
        "    max_current = max_global = nums[0]\n",
        "\n",
        "    for num in nums[1:]:\n",
        "        max_current = max(num, max_current + num)\n",
        "        if max_current > max_global:\n",
        "            max_global = max_current\n",
        "\n",
        "    return max_global"
      ],
      "metadata": {
        "id": "k2TqQw1Dl1fC"
      },
      "execution_count": 6,
      "outputs": []
    },
    {
      "cell_type": "code",
      "source": [
        "from collections import deque\n",
        "\n",
        "def wordLadderLength(beginWord, endWord, wordList):\n",
        "    wordSet = set(wordList)\n",
        "    if endWord not in wordSet:\n",
        "        return 0\n",
        "\n",
        "    queue = deque([(beginWord, 1)])  # (current_word, current_length)\n",
        "\n",
        "    while queue:\n",
        "        current_word, length = queue.popleft()\n",
        "\n",
        "        if current_word == endWord:\n",
        "            return length\n",
        "\n",
        "        for i in range(len(current_word)):\n",
        "            for c in 'abcdefghijklmnopqrstuvwxyz':\n",
        "                next_word = current_word[:i] + c + current_word[i+1:]\n",
        "                if next_word in wordSet:\n",
        "                    wordSet.remove(next_word)  # Mark as visited\n",
        "                    queue.append((next_word, length + 1))\n",
        "\n",
        "    return 0"
      ],
      "metadata": {
        "id": "3Ao5Iw-pl20b"
      },
      "execution_count": 8,
      "outputs": []
    },
    {
      "cell_type": "code",
      "source": [
        "import json\n",
        "import random\n",
        "\n",
        "class Player:\n",
        "    def __init__(self, name):\n",
        "        self.name = name\n",
        "        self.health = 100\n",
        "        self.attack = 10\n",
        "        self.defense = 5\n",
        "        self.inventory = []\n",
        "\n",
        "    def take_damage(self, damage):\n",
        "        self.health -= damage\n",
        "        if self.health < 0:\n",
        "            self.health = 0\n",
        "\n",
        "    def is_alive(self):\n",
        "        return self.health > 0\n",
        "\n",
        "    def add_item(self, item):\n",
        "        self.inventory.append(item)\n",
        "\n",
        "class Enemy:\n",
        "    def __init__(self, name, health, attack, defense):\n",
        "        self.name = name\n",
        "        self.health = health\n",
        "        self.attack = attack\n",
        "        self.defense = defense\n",
        "\n",
        "    def take_damage(self, damage):\n",
        "        self.health -= damage\n",
        "        if self.health < 0:\n",
        "            self.health = 0\n",
        "\n",
        "    def is_alive(self):\n",
        "        return self.health > 0\n",
        "\n",
        "class Location:\n",
        "    def __init__(self, name, description):\n",
        "        self.name = name\n",
        "        self.description = description\n",
        "        self.enemies = []\n",
        "        self.items = []\n",
        "\n",
        "    def add_enemy(self, enemy):\n",
        "        self.enemies.append(enemy)\n",
        "\n",
        "    def add_item(self, item):\n",
        "        self.items.append(item)\n",
        "\n",
        "class Game:\n",
        "    def __init__(self):\n",
        "        self.player = None\n",
        "        self.locations = {}\n",
        "        self.current_location = None\n",
        "\n",
        "    def create_map(self):\n",
        "        forest = Location(\"Forest\", \"A dark and spooky forest.\")\n",
        "        cave = Location(\"Cave\", \"A damp and dark cave.\")\n",
        "        forest.add_enemy(Enemy(\"Goblin\", 30, 5, 2))\n",
        "        cave.add_enemy(Enemy(\"Orc\", 50, 10, 5))\n",
        "        self.locations = {\n",
        "            \"Forest\": forest,\n",
        "            \"Cave\": cave\n",
        "        }\n",
        "        self.current_location = forest\n",
        "\n",
        "    def start_game(self):\n",
        "        name = input(\"Enter your character's name: \")\n",
        "        self.player = Player(name)\n",
        "        self.create_map()\n",
        "        self.game_loop()\n",
        "\n",
        "    def game_loop(self):\n",
        "        while True:\n",
        "            print(f\"\\nYou are in the {self.current_location.name}.\")\n",
        "            print(self.current_location.description)\n",
        "            if self.current_location.enemies:\n",
        "                print(\"Enemies here:\")\n",
        "                for enemy in self.current_location.enemies:\n",
        "                    print(f\"- {enemy.name} (Health: {enemy.health})\")\n",
        "            action = input(\"What do you want to do? (explore/fight/save/load/quit): \").strip().lower()\n",
        "            if action == \"explore\":\n",
        "                self.explore()\n",
        "            elif action == \"fight\":\n",
        "                self.fight()\n",
        "            elif action == \"save\":\n",
        "                self.save_game()\n",
        "            elif action == \"load\":\n",
        "                self.load_game()\n",
        "            elif action == \"quit\":\n",
        "                print(\"Thanks for playing!\")\n",
        "                break\n",
        "\n",
        "    def explore(self):\n",
        "        # Simple exploration logic to change locations\n",
        "        if self.current_location.name == \"Forest\":\n",
        "            self.current_location = self.locations[\"Cave\"]\n",
        "        else:\n",
        "            self.current_location = self.locations[\"Forest\"]\n",
        "\n",
        "    def fight(self):\n",
        "        if not self.current_location.enemies:\n",
        "            print(\"There are no enemies to fight!\")\n",
        "            return\n",
        "        enemy = self.current_location.enemies[0]\n",
        "        print(f\"You are fighting {enemy.name}!\")\n",
        "        while self.player.is_alive() and enemy.is_alive():\n",
        "            damage_to_enemy = max(0, self.player.attack - enemy.defense)\n",
        "            enemy.take_damage(damage_to_enemy)\n",
        "            print(f\"You dealt {damage_to_enemy} damage to {enemy.name}.\")\n",
        "            if not enemy.is_alive():\n",
        "                print(f\"You defeated {enemy.name}!\")\n",
        "                self.current_location.enemies.remove(enemy)\n",
        "                break\n",
        "            damage_to_player = max(0, enemy.attack - self.player.defense)\n",
        "            self.player.take_damage(damage_to_player)\n",
        "            print(f\"{enemy.name} dealt {damage_to_player} damage to you.\")\n",
        ""
      ],
      "metadata": {
        "id": "E9RYKXLXl7ek"
      },
      "execution_count": 17,
      "outputs": []
    },
    {
      "cell_type": "code",
      "source": [
        "def findMedianSortedArrays(nums1, nums2):\n",
        "    # Ensure nums1 is the smaller array\n",
        "    if len(nums1) > len(nums2):\n",
        "        nums1, nums2 = nums2, nums1\n",
        "\n",
        "    x, y = len(nums1), len(nums2)\n",
        "    low, high = 0, x\n",
        "\n",
        "    while low <= high:\n",
        "        partitionX = (low + high) // 2\n",
        "        partitionY = (x + y + 1) // 2 - partitionX\n",
        "\n",
        "        # If partitionX is 0 it means nothing is there on left side. Use -inf for maxLeftX\n",
        "        # If partitionX is length of input then there is nothing on right side. Use +inf for minRightX\n",
        "        maxLeftX = float('-inf') if partitionX == 0 else nums1[partitionX - 1]\n",
        "        minRightX = float('inf') if partitionX == x else nums1[partitionX]\n",
        "\n",
        "        maxLeftY = float('-inf') if partitionY == 0 else nums2[partitionY - 1]\n",
        "        minRightY = float('inf') if partitionY == y else nums2[partitionY]\n",
        "\n",
        "        if maxLeftX <= minRightY and maxLeftY <= minRightX:\n",
        "            # We have partitioned array at correct place\n",
        "            if (x + y) % 2 == 0:\n",
        "                return (max(maxLeftX, maxLeftY) + min(minRightX, minRightY)) / 2\n",
        "            else:\n",
        "                return max(maxLeftX, maxLeftY)\n",
        "        elif maxLeftX > minRightY:\n",
        "            # We are too far on right side for partitionX. Go on left side.\n",
        "            high = partitionX - 1\n",
        "        else:\n",
        "            # We are too far on left side for partitionX. Go on right side.\n",
        "            low = partitionX + 1\n",
        "\n",
        "# Example usage:\n",
        "nums1 = [1, 3]\n",
        "nums2 = [2]\n",
        "print(findMedianSortedArrays(nums1, nums2))  # Output: 2.0\n",
        "\n",
        "nums1 = [1, 2]\n",
        "nums2 = [3, 4]\n",
        "print(findMedianSortedArrays(nums1, nums2))  # Output: 2.5"
      ],
      "metadata": {
        "id": "_wNnXXNMmR1F"
      },
      "execution_count": null,
      "outputs": []
    }
  ]
}