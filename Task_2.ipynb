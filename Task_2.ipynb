{
  "nbformat": 4,
  "nbformat_minor": 0,
  "metadata": {
    "colab": {
      "provenance": [],
      "authorship_tag": "ABX9TyOLEhmgf6PYCN94orUJywAy",
      "include_colab_link": true
    },
    "kernelspec": {
      "name": "python3",
      "display_name": "Python 3"
    },
    "language_info": {
      "name": "python"
    }
  },
  "cells": [
    {
      "cell_type": "markdown",
      "metadata": {
        "id": "view-in-github",
        "colab_type": "text"
      },
      "source": [
        "<a href=\"https://colab.research.google.com/github/man123-web/Main-flow-tasks/blob/main/Task_2.ipynb\" target=\"_parent\"><img src=\"https://colab.research.google.com/assets/colab-badge.svg\" alt=\"Open In Colab\"/></a>"
      ]
    },
    {
      "cell_type": "code",
      "execution_count": null,
      "metadata": {
        "colab": {
          "base_uri": "https://localhost:8080/"
        },
        "id": "kRkEkWDX9Pt4",
        "outputId": "65d6ad56-bf9b-4c6d-9ad2-c4be17a9bbe0"
      },
      "outputs": [
        {
          "output_type": "stream",
          "name": "stdout",
          "text": [
            "Enter an integer to check if it's prime: 50\n",
            "False\n"
          ]
        }
      ],
      "source": [
        "def is_prime(n):\n",
        "    if n <= 1:\n",
        "        return False\n",
        "    for i in range(2, int(n**0.5) + 1):\n",
        "        if n % i == 0:\n",
        "            return False\n",
        "    return True\n",
        "\n",
        "# User input\n",
        "n = int(input(\"Enter an integer to check if it's prime: \"))\n",
        "print(is_prime(n))  # Output: True or False"
      ]
    },
    {
      "cell_type": "code",
      "source": [
        "def sum_of_digits(n):\n",
        "    return sum(int(digit) for digit in str(abs(n)))\n",
        "\n",
        "# User input\n",
        "n = int(input(\"Enter an integer to find the sum of its digits: \"))\n",
        "print(sum_of_digits(n))  # Output: Sum of digits7"
      ],
      "metadata": {
        "colab": {
          "base_uri": "https://localhost:8080/"
        },
        "id": "nI6koy0lBbeu",
        "outputId": "a7f834db-ce14-47e5-d0ec-986b4eda1f9a"
      },
      "execution_count": null,
      "outputs": [
        {
          "output_type": "stream",
          "name": "stdout",
          "text": [
            "Enter an integer to find the sum of its digits: 7\n",
            "7\n"
          ]
        }
      ]
    },
    {
      "cell_type": "code",
      "source": [
        "def reverse_list(lst):\n",
        "    reversed_lst = []\n",
        "    for item in lst:\n",
        "        reversed_lst.insert(0, item)  # Insert at the beginning\n",
        "    return reversed_lst\n",
        "\n",
        "# User input\n",
        "lst = input(\"Enter a list of integers separated by spaces: \")\n",
        "lst = list(map(int, lst.split()))  # Convert input string to a list of integers\n",
        "print(reverse_list(lst))  # Output: Reversed list"
      ],
      "metadata": {
        "colab": {
          "base_uri": "https://localhost:8080/"
        },
        "id": "aENWRCh2B5G0",
        "outputId": "e2e47423-1da7-40a2-9cc1-ea7eed781f9c"
      },
      "execution_count": null,
      "outputs": [
        {
          "output_type": "stream",
          "name": "stdout",
          "text": [
            "Enter a list of integers separated by spaces: 1 2 3 4 5 \n",
            "[5, 4, 3, 2, 1]\n"
          ]
        }
      ]
    },
    {
      "cell_type": "code",
      "source": [
        "def sort_list(lst):\n",
        "    # Using bubble sort for demonstration\n",
        "    n = len(lst)\n",
        "    for i in range(n):\n",
        "        for j in range(0, n-i-1):\n",
        "            if lst[j] > lst[j+1]:\n",
        "                lst[j], lst[j+1] = lst[j+1], lst[j]\n",
        "    return lst\n",
        "\n",
        "# User input\n",
        "lst = input(\"Enter a list of integers separated by spaces: \")\n",
        "lst = list(map(int, lst.split()))  # Convert input string to a list of integers\n",
        "sorted_lst = sort_list(lst)\n",
        "print(\"Sorted list:\", sorted_lst)  # Output: Sorted list5,6,7,8"
      ],
      "metadata": {
        "colab": {
          "base_uri": "https://localhost:8080/"
        },
        "id": "qrbib0b_DTBO",
        "outputId": "dfb0f032-5268-4945-e632-730084c8f773"
      },
      "execution_count": 11,
      "outputs": [
        {
          "output_type": "stream",
          "name": "stdout",
          "text": [
            "Enter a list of integers separated by spaces: 5 6  7    8 \n",
            "Sorted list: [5, 6, 7, 8]\n"
          ]
        }
      ]
    },
    {
      "cell_type": "code",
      "source": [
        "def remove_duplicates(lst):\n",
        "    return list(set(lst))  # Using set to remove duplicates\n",
        "\n",
        "# User input\n",
        "lst = input(\"Enter a list of integers separated by spaces: \")\n",
        "lst = list(map(int, lst.split()))  # Convert input string to a list of integers\n",
        "unique_lst = remove_duplicates(lst)\n",
        "print(\"List with unique elements:\", unique_lst)  # Output: List with unique elements"
      ],
      "metadata": {
        "colab": {
          "base_uri": "https://localhost:8080/"
        },
        "id": "C1_eewfgD289",
        "outputId": "e2e57caa-d6b6-473a-c971-b6f60f9b6686"
      },
      "execution_count": 20,
      "outputs": [
        {
          "output_type": "stream",
          "name": "stdout",
          "text": [
            "Enter a list of integers separated by spaces: 1 2 3\n",
            "List with unique elements: [1, 2, 3]\n"
          ]
        }
      ]
    },
    {
      "cell_type": "code",
      "source": [
        "def string_length(s):\n",
        "    count = 0\n",
        "    for char in s:\n",
        "        count += 1\n",
        "    return count\n",
        "\n",
        "# User input\n",
        "s = input(\"Enter a string: \")\n",
        "length = string_length(s)\n",
        "print(\"Length of the string:\", length)  # Output: Length of the string"
      ],
      "metadata": {
        "colab": {
          "base_uri": "https://localhost:8080/"
        },
        "id": "C7VXcnr-Ebq5",
        "outputId": "94fc5872-a10c-4ca2-e0cc-4769c5d3fc10"
      },
      "execution_count": 22,
      "outputs": [
        {
          "output_type": "stream",
          "name": "stdout",
          "text": [
            "Enter a string: 1 2 3\n",
            "Length of the string: 5\n"
          ]
        }
      ]
    },
    {
      "cell_type": "code",
      "source": [
        "def count_vowels_and_consonants(s):\n",
        "    vowels = set('aeiouAEIOU')\n",
        "    vowel_count = 0\n",
        "    consonant_count = 0\n",
        "\n",
        "    for char in s:\n",
        "        if char.isalpha():  # Check if the character is a letter\n",
        "            if char in vowels:\n",
        "                vowel_count += 1\n",
        "            else:\n",
        "                consonant_count += 1\n",
        "\n",
        "    return vowel_count, consonant_count\n",
        "\n",
        "# User input\n",
        "s = input(\"Enter a string: \")\n",
        "vowels_count, consonants_count = count_vowels_and_consonants(s)\n",
        "print(f\"Vowels: {vowels_count}, Consonants: {consonants_count}\")  # Output: Counts of vowels and consonants"
      ],
      "metadata": {
        "colab": {
          "base_uri": "https://localhost:8080/"
        },
        "id": "lkv8UrUFEs6w",
        "outputId": "c884391c-4354-44f1-a2d5-fb515a039e66"
      },
      "execution_count": 23,
      "outputs": [
        {
          "output_type": "stream",
          "name": "stdout",
          "text": [
            "Enter a string: 4 5 6\n",
            "Vowels: 0, Consonants: 0\n"
          ]
        }
      ]
    },
    {
      "cell_type": "code",
      "source": [
        "import random\n",
        "\n",
        "def generate_maze(width, height):\n",
        "    # Create a grid filled with walls\n",
        "    maze = [['#' for _ in range(width)] for _ in range(height)]\n",
        "\n",
        "    # Start carving paths from the initial position\n",
        "    def carve_passages(x, y):\n",
        "        directions = [(2, 0), (-2, 0), (0, 2), (0, -2)]  # Down, Up, Right, Left\n",
        "        random.shuffle(directions)  # Randomize directions\n",
        "\n",
        "        for dx, dy in directions:\n",
        "            nx, ny = x + dx, y + dy\n",
        "            if 0 < nx < width and 0 < ny < height and maze[ny][nx] == '#':\n",
        "                maze[y + dy // 2][x + dx // 2] = ' '  # Carve a passage\n",
        "                maze[ny][nx] = ' '  # Carve the next cell\n",
        "                carve_passages(nx, ny)  # Recursively carve from the new cell\n",
        "\n",
        "    # Start carving from the top-left corner\n",
        "    maze[1][1] = ' '\n",
        "    carve_passages(1, 1)\n",
        "    return maze\n",
        "\n",
        "def print_maze(maze):\n",
        "    for row in maze:\n",
        "        print(''.join(row))\n",
        "\n",
        "def solve_maze(maze, start, end):\n",
        "    stack = [start]\n",
        "    visited = set()\n",
        "    path = []\n",
        "\n",
        "    while stack:\n",
        "        current = stack.pop()\n",
        "        if current == end:\n",
        "            path.append(current)\n",
        "            return path\n",
        "        if current in visited:\n",
        "            continue\n",
        "        visited.add(current)\n",
        "        path.append(current)\n",
        "        x, y = current\n",
        "\n",
        "        # Check neighbors (down, up, right, left)\n",
        "        for dx, dy in [(0, 1), (0, -1), (1, 0), (-1, 0)]:\n",
        "            nx, ny = x + dx, y + dy\n",
        "            if 0 <= ny < len(maze) and 0 <= nx < len(maze[0]) and maze[ny][nx] == ' ':\n",
        "                stack.append((nx, ny))\n",
        "\n",
        "    return []  # Return an empty path if no solution is found\n",
        "\n",
        "def mark_path(maze, path):\n",
        "    for x, y in path:\n",
        "        if (x, y) != (1, 1) and (x, y) != (len(maze[0]) - 2, len(maze) - 2):\n",
        "            maze[y][x] = '.'  # Mark the path with a dot\n",
        "\n",
        "# Main program flow\n",
        "if __name__ == \"__main__\":\n",
        "    width = int(input(\"Enter maze width (odd number): \"))\n",
        "    height = int(input(\"Enter maze height (odd number): \"))\n",
        "\n",
        "    # Ensure width and height are odd\n",
        "    if width % 2 == 0:\n",
        "        width += 1\n",
        "    if height % 2 == 0:\n",
        "        height += 1\n",
        "\n",
        "    maze = generate_maze(width, height)\n",
        "    print(\"Generated Maze:\")\n",
        "    print_maze(maze)\n",
        "\n",
        "    # Solve the maze from top-left to bottom-right\n",
        "    start = (1, 1)\n",
        "    end = (width - 2, height - 2)\n",
        "    path = solve_maze(maze, start, end)\n",
        "\n",
        "    if path:\n",
        "        print(\"Maze is solvable. Path found:\")\n",
        "        mark_path(maze, path)\n",
        "        print_maze(maze)\n",
        "    else:\n",
        "        print(\"Maze is not solvable.\")"
      ],
      "metadata": {
        "colab": {
          "base_uri": "https://localhost:8080/"
        },
        "id": "Eu42nhWTGAa1",
        "outputId": "32372ccb-ca38-42e6-a6f7-3475ed425f22"
      },
      "execution_count": 27,
      "outputs": [
        {
          "output_type": "stream",
          "name": "stdout",
          "text": [
            "Enter maze width (odd number): 11\n",
            "Enter maze height (odd number): 11\n",
            "Generated Maze:\n",
            "###########\n",
            "#     #   #\n",
            "##### # # #\n",
            "#   #   # #\n",
            "# # ##### #\n",
            "# #   #   #\n",
            "# # ### ###\n",
            "# #   # # #\n",
            "# ### # # #\n",
            "#   #     #\n",
            "###########\n",
            "Maze is solvable. Path found:\n",
            "###########\n",
            "# ....#...#\n",
            "#####.#.#.#\n",
            "#...#...#.#\n",
            "#.#.#####.#\n",
            "#.#...#...#\n",
            "#.#.###.###\n",
            "#.#...#.# #\n",
            "#.###.#.# #\n",
            "#...#.... #\n",
            "###########\n"
          ]
        }
      ]
    }
  ]
}