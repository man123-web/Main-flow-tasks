{
  "nbformat": 4,
  "nbformat_minor": 0,
  "metadata": {
    "colab": {
      "provenance": [],
      "authorship_tag": "ABX9TyOmP5QWgeECw4r6qWeoyfgk",
      "include_colab_link": true
    },
    "kernelspec": {
      "name": "python3",
      "display_name": "Python 3"
    },
    "language_info": {
      "name": "python"
    }
  },
  "cells": [
    {
      "cell_type": "markdown",
      "metadata": {
        "id": "view-in-github",
        "colab_type": "text"
      },
      "source": [
        "<a href=\"https://colab.research.google.com/github/man123-web/Main-flow-tasks/blob/main/Task_8.ipynb\" target=\"_parent\"><img src=\"https://colab.research.google.com/assets/colab-badge.svg\" alt=\"Open In Colab\"/></a>"
      ]
    },
    {
      "cell_type": "code",
      "execution_count": null,
      "metadata": {
        "id": "AVuIfg_cD_tT"
      },
      "outputs": [],
      "source": [
        "class TreeNode:\n",
        "    def __init__(self, val=0, left=None, right=None):\n",
        "        self.val = val\n",
        "        self.left = left\n",
        "        self.right = right\n",
        "\n",
        "class Codec:\n",
        "    def serialize(self, root):\n",
        "        if not root:\n",
        "            return \"null\"\n",
        "        return f\"{root.val},{self.serialize(root.left)},{self.serialize(root.right)}\"\n",
        "\n",
        "    def deserialize(self, data):\n",
        "        def dfs():\n",
        "            val = next(vals)\n",
        "            if val == \"null\":\n",
        "                return None\n",
        "            node = TreeNode(int(val))\n",
        "            node.left = dfs()\n",
        "            node.right = dfs()\n",
        "            return node\n",
        "\n",
        "        vals = iter(data.split(\",\"))\n",
        "        return dfs()"
      ]
    },
    {
      "cell_type": "code",
      "source": [],
      "metadata": {
        "id": "PfYVDtWpSXPi"
      },
      "execution_count": null,
      "outputs": []
    },
    {
      "cell_type": "code",
      "source": [
        "from collections import deque\n",
        "\n",
        "def max_flow(graph, source, sink):\n",
        "    def bfs(parent, residual):\n",
        "        parent[:] = [-1] * len(graph)\n",
        "        queue = deque([source])\n",
        "        parent[source] = source\n",
        "        while queue:\n",
        "            u = queue.popleft()\n",
        "            for v in range(len(graph)):\n",
        "                if parent[v] == -1 and residual[u][v] > 0:\n",
        "                    parent[v] = u\n",
        "                    queue.append(v)\n",
        "        return parent[sink] != -1\n",
        "\n",
        "    n = len(graph)\n",
        "    residual = [row[:] for row in graph]\n",
        "    parent = [-1] * n\n",
        "    max_flow = 0\n",
        "\n",
        "    while bfs(parent, residual):\n",
        "        path_flow = float(\"inf\")\n",
        "        v = sink\n",
        "        while v != source:\n",
        "            u = parent[v]\n",
        "            path_flow = min(path_flow, residual[u][v])\n",
        "            v = u\n",
        "        max_flow += path_flow\n",
        "        v = sink\n",
        "        while v != source:\n",
        "            u = parent[v]\n",
        "            residual[u][v] -= path_flow\n",
        "            residual[v][u] += path_flow\n",
        "            v = u\n",
        "\n",
        "    return max_flow"
      ],
      "metadata": {
        "id": "2kiCtF9iFWZ8"
      },
      "execution_count": null,
      "outputs": []
    },
    {
      "cell_type": "code",
      "source": [
        "def minDistance(word1: str, word2: str) -> int:\n",
        "    m, n = len(word1), len(word2)\n",
        "    dp = [[0] * (n + 1) for _ in range(m + 1)]\n",
        "\n",
        "    for i in range(m + 1):\n",
        "        dp[i][0] = i\n",
        "    for j in range(n + 1):\n",
        "        dp[0][j] = j\n",
        "\n",
        "    for i in range(1, m + 1):\n",
        "        for j in range(1, n + 1):\n",
        "            if word1[i-1] == word2[j-1]:\n",
        "                dp[i][j] = dp[i-1][j-1]\n",
        "            else:\n",
        "                dp[i][j] = min(dp[i-1][j-1] + 1, dp[i-1][j] + 1, dp[i][j-1] + 1)\n",
        "\n",
        "    return dp[m][n]"
      ],
      "metadata": {
        "id": "H-BJP6otFcD9"
      },
      "execution_count": null,
      "outputs": []
    },
    {
      "cell_type": "code",
      "source": [
        "class TreeNode:\n",
        "    def __init__(self, val=0, left=None, right=None):\n",
        "        self.val = val\n",
        "        self.left = left\n",
        "        self.right = right\n",
        "\n",
        "def kthSmallest(root, k):\n",
        "    stack = []\n",
        "    curr = root\n",
        "    count = 0\n",
        "\n",
        "    while curr or stack:\n",
        "        while curr:\n",
        "            stack.append(curr)\n",
        "            curr = curr.left\n",
        "        curr = stack.pop()\n",
        "        count += 1\n",
        "        if count == k:\n",
        "            return curr.val\n",
        "        curr = curr.right"
      ],
      "metadata": {
        "id": "NLeDM70rFfIG"
      },
      "execution_count": null,
      "outputs": []
    },
    {
      "cell_type": "code",
      "source": [
        "def maxProduct(nums):\n",
        "    if not nums:\n",
        "        return 0\n",
        "\n",
        "    max_so_far = nums[0]\n",
        "    curr_max = nums[0]\n",
        "    curr_min = nums[0]\n",
        "\n",
        "    for i in range(1, len(nums)):\n",
        "        temp_max = curr_max\n",
        "        curr_max = max(nums[i], nums[i] * curr_max, nums[i] * curr_min)\n",
        "        curr_min = min(nums[i], nums[i] * temp_max, nums[i] * curr_min)\n",
        "        max_so_far = max(max_so_far, curr_max)\n",
        "\n",
        "    return max_so_far"
      ],
      "metadata": {
        "id": "8wkp6RfSFiQ-"
      },
      "execution_count": null,
      "outputs": []
    },
    {
      "cell_type": "code",
      "source": [
        "def find_all_paths(graph, start, end):\n",
        "    def dfs(current, path):\n",
        "        # Add the current node to the path\n",
        "        path.append(current)\n",
        "\n",
        "        # If the current node is the end node, add the path to the result\n",
        "        if current == end:\n",
        "            result.append(list(path))  # Append a copy of the current path\n",
        "        else:\n",
        "            # Explore neighbors\n",
        "            for neighbor in graph.get(current, []):\n",
        "                dfs(neighbor, path)\n",
        "\n",
        "        # Backtrack: remove the current node from the path\n",
        "        path.pop()\n",
        "\n",
        "    result = []\n",
        "    dfs(start, [])\n",
        "    return result\n",
        "\n",
        "# Example usage:\n",
        "graph = {\n",
        "    'A': ['B', 'C'],\n",
        "    'B': ['D'],\n",
        "    'C': ['D'],\n",
        "    'D': ['E'],\n",
        "    'E': []\n",
        "}\n",
        "\n",
        "start_node = 'A'\n",
        "end_node = 'E'\n",
        "paths = find_all_paths(graph, start_node, end_node)\n",
        "print(paths)  # Output: [['A', 'B', 'D', 'E'], ['A', 'C', 'D', 'E']]"
      ],
      "metadata": {
        "colab": {
          "base_uri": "https://localhost:8080/"
        },
        "id": "CvUWiBx-HtDC",
        "outputId": "c1a259b6-f355-4313-fa07-8a5814b1daad"
      },
      "execution_count": null,
      "outputs": [
        {
          "output_type": "stream",
          "name": "stdout",
          "text": [
            "[['A', 'B', 'D', 'E'], ['A', 'C', 'D', 'E']]\n"
          ]
        }
      ]
    },
    {
      "cell_type": "code",
      "source": [
        "class SchemaValidator:\n",
        "    def validate(self, data, schema):\n",
        "        \"\"\"Validate data against a schema.\"\"\"\n",
        "        for key, expected_type in schema.items():\n",
        "            if key not in data:\n",
        "                raise ValueError(f\"Missing key: {key}\")\n",
        "            if not isinstance(data[key], expected_type):\n",
        "                raise ValueError(f\"Key '{key}' should be of type {expected_type.__name__}\")\n",
        "\n",
        "# Example schema\n",
        "schema = {\n",
        "    \"name\": str,\n",
        "    \"age\": int,\n",
        "    \"address\": dict\n",
        "}\n",
        "\n",
        "# Example data to validate\n",
        "deserialized_data = {  # Define deserialized_data with sample values\n",
        "    \"name\": \"John Doe\",\n",
        "    \"age\": 30,\n",
        "    \"address\": {\"street\": \"123 Main St\", \"city\": \"Anytown\"}\n",
        "}\n",
        "\n",
        "# Validate the deserialized data\n",
        "validator = SchemaValidator()\n",
        "try:\n",
        "    validator.validate(deserialized_data, schema)\n",
        "    print(\"\\nData is valid according to the schema.\")\n",
        "except ValueError as e:\n",
        "    print(f\"\\nValidation error: {e}\")"
      ],
      "metadata": {
        "colab": {
          "base_uri": "https://localhost:8080/"
        },
        "id": "6UDKcJHUSpE3",
        "outputId": "e0f5583d-e1da-4226-f9cb-815bda1245da"
      },
      "execution_count": 2,
      "outputs": [
        {
          "output_type": "stream",
          "name": "stdout",
          "text": [
            "\n",
            "Data is valid according to the schema.\n"
          ]
        }
      ]
    }
  ]
}